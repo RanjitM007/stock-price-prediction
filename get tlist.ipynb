{
 "cells": [
  {
   "cell_type": "code",
   "execution_count": 41,
   "id": "a3119098-49ab-45da-a8e9-754b0ddf3803",
   "metadata": {},
   "outputs": [],
   "source": [
    "from selenium import webdriver\n",
    "from selenium.webdriver.common.by import By\n",
    "from selenium.webdriver.common.keys import Keys\n",
    "driver = webdriver.Chrome()"
   ]
  },
  {
   "cell_type": "code",
   "execution_count": 42,
   "id": "91b49541-ac72-4631-8fd9-2dfb767473a1",
   "metadata": {},
   "outputs": [],
   "source": [
    "url=\"https://finance.yahoo.com/screener/predefined/sec-ind_sec-largest-equities_financial-services/?count=25&offset=0\""
   ]
  },
  {
   "cell_type": "code",
   "execution_count": 43,
   "id": "e452be92-04fd-4d70-8c79-d601d9a112c4",
   "metadata": {},
   "outputs": [],
   "source": [
    "driver.get(url)"
   ]
  },
  {
   "cell_type": "code",
   "execution_count": 44,
   "id": "95d9059e-d743-49e9-a03b-feeae434c2d6",
   "metadata": {},
   "outputs": [],
   "source": [
    "symbl=[]\n",
    "name=[]"
   ]
  },
  {
   "cell_type": "code",
   "execution_count": null,
   "id": "44795571-e036-4f36-891c-e92cfdf640df",
   "metadata": {},
   "outputs": [
    {
     "name": "stdout",
     "output_type": "stream",
     "text": [
      "0 25\n",
      "25 50\n",
      "62 75\n",
      "89 100\n"
     ]
    }
   ],
   "source": [
    "\n",
    "for i in range(52):\n",
    "    try:\n",
    "        sy= driver.find_elements(By.XPATH, \"//table[@class='W(100%)']/tbody/tr/td[1]\")\n",
    "        for i in sy:\n",
    "            symbl.append(i.text)\n",
    "        nm=driver.find_elements(By.XPATH, \"//table[@class='W(100%)']/tbody/tr/td[2]\")\n",
    "        for i in nm:\n",
    "            name.append(i.text)\n",
    "        nxt=driver.find_element(By.XPATH, \"//button[@class='Va(m) H(20px) Bd(0) M(0) P(0) Fz(s) Pstart(10px) O(n):f Fw(500) C($linkColor)']\")\n",
    "        nxt.click()\n",
    "        print(len(symbl),len(name))\n",
    "    except:\n",
    "        pass\n",
    "        "
   ]
  },
  {
   "cell_type": "code",
   "execution_count": null,
   "id": "abe5e0b6-61dc-4c6b-8d46-ed2bf585fcab",
   "metadata": {},
   "outputs": [],
   "source": []
  },
  {
   "cell_type": "code",
   "execution_count": null,
   "id": "09c8a72a-88e4-4aa7-bb6f-1d7b93a3372a",
   "metadata": {},
   "outputs": [],
   "source": []
  },
  {
   "cell_type": "code",
   "execution_count": null,
   "id": "72b9da8c-1ab4-4de0-bcc7-39570c70f9b0",
   "metadata": {},
   "outputs": [],
   "source": []
  },
  {
   "cell_type": "code",
   "execution_count": null,
   "id": "ac02321f-bd03-4d61-8863-3581791dde29",
   "metadata": {},
   "outputs": [],
   "source": []
  },
  {
   "cell_type": "code",
   "execution_count": null,
   "id": "d46b964f-c7c1-478d-888e-515e9c393a83",
   "metadata": {},
   "outputs": [],
   "source": []
  },
  {
   "cell_type": "code",
   "execution_count": null,
   "id": "b3113859-df7f-4f98-b2ab-4f65ed65dea9",
   "metadata": {},
   "outputs": [],
   "source": []
  }
 ],
 "metadata": {
  "kernelspec": {
   "display_name": "Python 3 (ipykernel)",
   "language": "python",
   "name": "python3"
  },
  "language_info": {
   "codemirror_mode": {
    "name": "ipython",
    "version": 3
   },
   "file_extension": ".py",
   "mimetype": "text/x-python",
   "name": "python",
   "nbconvert_exporter": "python",
   "pygments_lexer": "ipython3",
   "version": "3.12.4"
  }
 },
 "nbformat": 4,
 "nbformat_minor": 5
}
